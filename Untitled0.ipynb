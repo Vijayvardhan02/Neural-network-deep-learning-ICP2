{
  "nbformat": 4,
  "nbformat_minor": 0,
  "metadata": {
    "colab": {
      "provenance": [],
      "authorship_tag": "ABX9TyOfChvlYj4gIBRImW7MB8A0",
      "include_colab_link": true
    },
    "kernelspec": {
      "name": "python3",
      "display_name": "Python 3"
    },
    "language_info": {
      "name": "python"
    }
  },
  "cells": [
    {
      "cell_type": "markdown",
      "metadata": {
        "id": "view-in-github",
        "colab_type": "text"
      },
      "source": [
        "<a href=\"https://colab.research.google.com/github/Vijayvardhan02/Neural-network-deep-learning-ICP2/blob/main/Untitled0.ipynb\" target=\"_parent\"><img src=\"https://colab.research.google.com/assets/colab-badge.svg\" alt=\"Open In Colab\"/></a>"
      ]
    },
    {
      "cell_type": "code",
      "source": [
        "class Employee:\n",
        "    # Class variable to count the number of employees\n",
        "    employee_count = 0\n",
        "\n",
        "    def __init__(self, name, family, salary, department):  # Changed _init_ to __init__\n",
        "        self.name = name\n",
        "        self.family = family\n",
        "        self.salary = salary\n",
        "        self.department = department\n",
        "        Employee.employee_count += 1\n",
        "\n",
        "    def average_salary(self, employees):\n",
        "        total_salary = sum(employee.salary for employee in employees)\n",
        "        return total_salary / len(employees) if employees else 0\n",
        "\n",
        "    def __str__(self):  # Changed _str_ to __str__\n",
        "        return f\"Employee(name={self.name}, family={self.family}, salary={self.salary}, department={self.department})\"\n",
        "\n",
        "\n",
        "class FulltimeEmployee(Employee):\n",
        "    def __init__(self, name, family, salary, department):  # Changed _init_ to __init__\n",
        "        super().__init__(name, family, salary, department)\n",
        "        # attributes to FulltimeEmployee can be added here\n",
        "\n",
        "    def __str__(self):  # Changed _str_ to __str__\n",
        "        return f\"FulltimeEmployee(name={self.name}, family={self.family}, salary={self.salary}, department={self.department})\"\n",
        "\n",
        "\n",
        "# Creating instances of Employee\n",
        "emp1 = Employee(\"vijay\", \"Gonaboyina\", 60000, \"HR\")\n",
        "emp2 = Employee(\"Ravi\", \"Indugula\", 70000, \"Finance\")\n",
        "\n",
        "# Creating instances of FulltimeEmployee\n",
        "ft_emp1 = FulltimeEmployee(\"Prem\", \"Manyam\", 80000, \"IT\")\n",
        "ft_emp2 = FulltimeEmployee(\"Swaroop\", \"Adabala\", 75000, \"Marketing\")\n",
        "\n",
        "# List of all employees\n",
        "all_employees = [emp1, emp2, ft_emp1, ft_emp2]\n",
        "\n",
        "# Calculate and print average salary(average of salary of all employees)\n",
        "employee = Employee(\"Temp\", \"Temp\", 0, \"None\")\n",
        "print(f\"Average Salary: {employee.average_salary(all_employees)}\")\n",
        "\n",
        "# Print the details of each employee\n",
        "for emp in all_employees:\n",
        "    print(emp)\n",
        "\n",
        "# Print total number of employees\n",
        "print(f\"Total number of employees: {Employee.employee_count}\")"
      ],
      "metadata": {
        "colab": {
          "base_uri": "https://localhost:8080/"
        },
        "id": "ueAcwf-pIa43",
        "outputId": "2be012b1-655b-4a2f-964f-a9b4385ef2c0"
      },
      "execution_count": 10,
      "outputs": [
        {
          "output_type": "stream",
          "name": "stdout",
          "text": [
            "Average Salary: 71250.0\n",
            "Employee(name=vijay, family=Gonaboyina, salary=60000, department=HR)\n",
            "Employee(name=Ravi, family=Indugula, salary=70000, department=Finance)\n",
            "FulltimeEmployee(name=Prem, family=Manyam, salary=80000, department=IT)\n",
            "FulltimeEmployee(name=Swaroop, family=Adabala, salary=75000, department=Marketing)\n",
            "Total number of employees: 5\n"
          ]
        }
      ]
    },
    {
      "cell_type": "code",
      "source": [
        "\n",
        "import numpy as np\n",
        "\n",
        "#random vector of size 20 with floats in the range 1-20\n",
        "vector = np.random.uniform(1, 20, size=20)\n",
        "print(vector)\n",
        "print()\n",
        "\n",
        "#vector to 4x5\n",
        "matrix = vector.reshape(4, 5)\n",
        "\n",
        "#Replace the max in each row with 0 (axis=1)\n",
        "# Get the indices of the maximum values along axis=1\n",
        "max_indices = np.argmax(matrix, axis=1)\n",
        "\n",
        "# Create a boolean mask where the max values are True\n",
        "mask = np.arange(matrix.shape[1]) == max_indices[:, None]\n",
        "\n",
        "# Apply the mask to set max values to 0\n",
        "matrix[mask] = 0\n",
        "\n",
        "# Output the result\n",
        "print(\"Matrix after replacing max values with 0:\")\n",
        "print(matrix)"
      ],
      "metadata": {
        "colab": {
          "base_uri": "https://localhost:8080/"
        },
        "id": "h1z2OGcUIhhA",
        "outputId": "c00d88ce-5812-47c2-8099-dcd7f101ba93"
      },
      "execution_count": 8,
      "outputs": [
        {
          "output_type": "stream",
          "name": "stdout",
          "text": [
            "[ 5.7288541  19.03254357  5.04850547 11.72626289 12.39914445  3.68495317\n",
            " 10.17231779  1.18531313 10.31414552  2.68202525 19.46944046 19.16499015\n",
            "  4.31400588 10.70520048 14.96850066 15.55112818 10.7125966   4.20562257\n",
            " 12.52663931  6.07081294]\n",
            "\n",
            "Matrix after replacing max values with 0:\n",
            "[[ 5.7288541   0.          5.04850547 11.72626289 12.39914445]\n",
            " [ 3.68495317 10.17231779  1.18531313  0.          2.68202525]\n",
            " [ 0.         19.16499015  4.31400588 10.70520048 14.96850066]\n",
            " [ 0.         10.7125966   4.20562257 12.52663931  6.07081294]]\n"
          ]
        }
      ]
    }
  ]
}